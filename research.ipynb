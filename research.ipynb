{
 "cells": [
  {
   "cell_type": "markdown",
   "id": "cffa32dc",
   "metadata": {},
   "source": [
    "# Algorithmic Trading Pipeline\n",
    "# Complete Workflow: Data → Model → Strategy → Backtest → Analysis\n",
    "\n",
    "This notebook demonstrates the full pipeline for:\n",
    "1. Loading/creating data catalog\n",
    "2. Model hyperparameter optimization\n",
    "3. Strategy hyperparameter optimization\n",
    "4. Final backtest execution\n",
    "5. Performance analysis and visualization"
   ]
  },
  {
   "cell_type": "markdown",
   "id": "c3dd62c7",
   "metadata": {},
   "source": [
    "---\n",
    "## Stage 0: Setup & Configuration\n",
    "Load dependencies and configuration"
   ]
  },
  {
   "cell_type": "code",
   "execution_count": null,
   "id": "93be3c18",
   "metadata": {},
   "outputs": [],
   "source": [
    "# Use to debugging\n",
    "%load_ext autoreload\n",
    "%autoreload 2\n",
    "\n",
    "# Core imports\n",
    "from pathlib import Path\n",
    "import yaml\n",
    "import logging\n",
    "import pandas as pd\n",
    "import mlflow\n",
    "from mlflow import MlflowClient\n",
    "import tqdm as notebook_tqdm\n",
    "\n",
    "\n",
    "# Nautilus Trader\n",
    "from nautilus_trader.model.objects import Currency\n",
    "from nautilus_trader.core.nautilus_pyo3 import CurrencyType\n",
    "from nautilus_trader.persistence.catalog import ParquetDataCatalog\n",
    "from nautilus_trader.model.data import TradeTick\n",
    "\n",
    "# Project modules\n",
    "from algos.engine.databento_loader import DatabentoTickLoader\n",
    "from algos.engine.hparam_tuner import OptunaHparamsTuner\n",
    "from algos.engine.performance_plots import (\n",
    "    get_frequency_params, align_series,\n",
    "    plot_balance_breakdown, plot_cumulative_returns,\n",
    "    plot_rolling_sharpe, plot_underwater,\n",
    "    plot_active_returns, plot_portfolio_allocation\n",
    ")\n",
    "\n",
    "# Setup logging\n",
    "logging.basicConfig(\n",
    "    level=logging.INFO,\n",
    "    format='%(asctime)s - %(name)s - %(levelname)s - %(message)s'\n",
    ")\n",
    "logger = logging.getLogger(__name__)"
   ]
  },
  {
   "cell_type": "code",
   "execution_count": null,
   "id": "69dab57b",
   "metadata": {},
   "outputs": [],
   "source": [
    "# Load configuration\n",
    "cfg_path = Path(\"configs/config.yaml\")\n",
    "cfg = yaml.safe_load(cfg_path.read_text(encoding=\"utf-8\"))\n",
    "\n",
    "# Setup currency\n",
    "currency_code = cfg[\"STRATEGY\"][\"PARAMS\"][\"currency\"]\n",
    "if currency_code == \"USD\":\n",
    "    cfg[\"STRATEGY\"][\"PARAMS\"][\"currency\"] = Currency(\n",
    "        code='USD', precision=3, iso4217=840,\n",
    "        name='United States dollar', currency_type=CurrencyType.FIAT\n",
    "    )\n",
    "elif currency_code == \"EUR\":\n",
    "    cfg[\"STRATEGY\"][\"PARAMS\"][\"currency\"] = Currency(\n",
    "        code='EUR', precision=3, iso4217=978,\n",
    "        name='Euro', currency_type=CurrencyType.FIAT\n",
    "    )\n",
    "\n",
    "# Setup directories\n",
    "logs_dir = Path(\"logs/\")\n",
    "logs_dir.mkdir(parents=True, exist_ok=True)\n",
    "\n",
    "print(\"Configuration loaded successfully\")\n",
    "print(f\"Model: {cfg['MODEL']['PARAMS']['model_name']}\")\n",
    "print(f\"Strategy: {cfg['STRATEGY']['PARAMS']['strategy_name']}\")\n",
    "print(f\"Backtest period: {cfg['STRATEGY']['PARAMS']['backtest_start']} to {cfg['STRATEGY']['PARAMS']['backtest_end']}\")"
   ]
  },
  {
   "cell_type": "markdown",
   "id": "2619ef4b",
   "metadata": {},
   "source": [
    "---\n",
    "## Stage 1: Data Catalog and HyperParameter Tuner setup\n",
    "Load or create Nautilus Trader data catalog from Databento tick data"
   ]
  },
  {
   "cell_type": "code",
   "execution_count": null,
   "id": "d6e3fee7",
   "metadata": {},
   "outputs": [],
   "source": [
    "# Configuration\n",
    "FORCE_RELOAD_CATALOG = False  # Set to True to rebuild catalog\n",
    "CATALOG_PATH = None  # Set custom path or None for default\n",
    "\n",
    "# Initialize loader\n",
    "logger.info(\"Initializing Databento loader...\")\n",
    "loader = DatabentoTickLoader(\n",
    "    cfg=cfg[\"STRATEGY\"][\"PARAMS\"],\n",
    "    venue_name=cfg[\"STRATEGY\"][\"PARAMS\"][\"venue_name\"]\n",
    ")\n",
    "\n",
    "# Determine catalog path\n",
    "catalog_path = Path(CATALOG_PATH) if CATALOG_PATH else loader.catalog_path\n",
    "\n",
    "# Load or create catalog\n",
    "if not FORCE_RELOAD_CATALOG and loader.catalog_exists(catalog_path):\n",
    "    logger.info(f\"📂 Reusing existing catalog at: {catalog_path}\")\n",
    "    catalog = ParquetDataCatalog(path=str(catalog_path))\n",
    "else:\n",
    "    logger.info(f\"🔄 Loading Databento ticks to catalog at: {catalog_path}\")\n",
    "    if FORCE_RELOAD_CATALOG:\n",
    "        logger.info(\"Force reload enabled - rebuilding catalog\")\n",
    "    \n",
    "    # Load with progress bar and memory management\n",
    "    catalog = loader.load_to_catalog(\n",
    "        catalog_path=catalog_path,\n",
    "    )\n",
    "\n",
    "# Add catalog path to config\n",
    "cfg[\"STRATEGY\"][\"PARAMS\"][\"catalog_path\"] = str(catalog_path)\n",
    "\n",
    "# Verify catalog\n",
    "#instruments = catalog.instruments(instrument_type=TradeTick)  # takes too long on laptop. Use loader class instruments property instead\n",
    "instruments = loader.instruments\n",
    "instrument_ids = [inst.id for inst in loader.instruments]\n",
    "print(f\"\\n✅ Catalog ready: {catalog.list_data_types()} data loaded\")\n",
    "print(f\"Universe: {[str(inst.id.symbol) for inst in instruments[:10]]}\")\n"
   ]
  },
  {
   "cell_type": "code",
   "execution_count": null,
   "id": "ca069536",
   "metadata": {},
   "outputs": [],
   "source": [
    "# Initialize hyperparameter tuner\n",
    "tuner = OptunaHparamsTuner(\n",
    "    cfg=cfg,\n",
    "    catalog=catalog,\n",
    "    run_dir=logs_dir,\n",
    "    instrument_ids=instrument_ids,\n",
    "    seed=2025\n",
    ")\n",
    "\n",
    "print(\"Hyperparameter tuner initialized\")\n",
    "print(f\"Model trials: {cfg['MODEL']['PARAMS']['n_trials']}\")\n",
    "print(f\"Strategy trials: {cfg['STRATEGY']['PARAMS']['n_trials']}\")"
   ]
  },
  {
   "cell_type": "markdown",
   "id": "5c3d7615",
   "metadata": {},
   "source": [
    "---\n",
    "## Stage 2: Model Hyperparameter Optimization\n",
    "Optimize model hyperparameters using Optuna"
   ]
  },
  {
   "cell_type": "code",
   "execution_count": null,
   "id": "82825222",
   "metadata": {},
   "outputs": [],
   "source": [
    "# Run model hyperparameter optimization\n",
    "logger.info(\"\\n\" + \"=\"*70)\n",
    "logger.info(\"🔬 STAGE 2: MODEL HYPERPARAMETER OPTIMIZATION\")\n",
    "logger.info(\"=\"*70 + \"\\n\")\n",
    "\n",
    "model_results = tuner.optimize_model(instrument_ids=instrument_ids)\n",
    "\n",
    "print(\"\\n✅ Model optimization complete!\")\n",
    "print(f\"Best model path: {model_results['model_path']}\")\n",
    "print(f\"MLflow run ID: {model_results['mlflow_run_id']}\")"
   ]
  },
  {
   "cell_type": "markdown",
   "id": "7c8a2a6c",
   "metadata": {},
   "source": [
    "---\n",
    "## Stage 3: Strategy Hyperparameter Optimization\n",
    "Optimize strategy hyperparameters using best model from Stage 2"
   ]
  },
  {
   "cell_type": "code",
   "execution_count": null,
   "id": "6b45dde5",
   "metadata": {},
   "outputs": [],
   "source": [
    "# Run strategy hyperparameter optimization\n",
    "logger.info(\"\\n\" + \"=\"*70)\n",
    "logger.info(\"📊 STAGE 3: STRATEGY HYPERPARAMETER OPTIMIZATION\")\n",
    "logger.info(\"=\"*70 + \"\\n\")\n",
    "\n",
    "model_name = cfg['MODEL']['PARAMS']['model_name']\n",
    "strategy_results = tuner.optimize_strategy(model_name=model_name)\n",
    "\n",
    "print(\"\\n✅ Strategy optimization complete!\")\n",
    "print(f\"Best hyperparameters: {strategy_results['hparams']}\")\n",
    "print(f\"\\nBest metrics:\")\n",
    "for metric, value in strategy_results['metrics'].items():\n",
    "    print(f\"  {metric}: {value:.4f}\")\n",
    "print(f\"\\nMLflow run ID: {strategy_results['mlflow_run_id']}\")"
   ]
  },
  {
   "cell_type": "markdown",
   "id": "491401ff",
   "metadata": {},
   "source": [
    "---\n",
    "## Stage 4: Final Backtest\n",
    "Run final backtest on full period with optimized hyperparameters"
   ]
  },
  {
   "cell_type": "code",
   "execution_count": null,
   "id": "e319591b",
   "metadata": {},
   "outputs": [],
   "source": [
    "# Get optimization context\n",
    "run = mlflow.get_run(strategy_results[\"mlflow_run_id\"])\n",
    "optimization_id = run.data.tags.get(\"optimization_id\", \"\")\n",
    "\n",
    "# Define backtest period\n",
    "backtest_start = cfg[\"STRATEGY\"][\"PARAMS\"][\"backtest_start\"]\n",
    "backtest_end = cfg[\"STRATEGY\"][\"PARAMS\"][\"backtest_end\"]\n",
    "\n",
    "print(f\"Running final backtest: {backtest_start} to {backtest_end}\")"
   ]
  },
  {
   "cell_type": "code",
   "execution_count": null,
   "id": "7c3d3e11",
   "metadata": {},
   "outputs": [],
   "source": [
    "# Execute final backtest\n",
    "logger.info(\"\\n\" + \"=\"*70)\n",
    "logger.info(\"🚀 STAGE 4: FINAL BACKTEST\")\n",
    "logger.info(\"=\"*70 + \"\\n\")\n",
    "\n",
    "final_metrics, final_time_series = tuner.run_final_backtest(\n",
    "    backtest_start=backtest_start,\n",
    "    backtest_end=backtest_end,\n",
    "    strategy_hpo_run_id=strategy_results[\"mlflow_run_id\"],\n",
    "    optimization_id=optimization_id\n",
    ")\n",
    "\n",
    "print(\"\\n✅ Final backtest complete!\")\n",
    "print(\"\\nFinal Performance Metrics:\")\n",
    "print(\"=\"*50)\n",
    "for metric, value in sorted(final_metrics.items()):\n",
    "    print(f\"{metric:.<40} {value:>10.4f}\")"
   ]
  },
  {
   "cell_type": "markdown",
   "id": "42dccb9a",
   "metadata": {},
   "source": [
    "---\n",
    "## Stage 5: Performance Analysis\n",
    "Detailed analysis and visualization of backtest results"
   ]
  },
  {
   "cell_type": "code",
   "execution_count": null,
   "id": "6af6cfce",
   "metadata": {},
   "outputs": [],
   "source": [
    "# Load results from MLflow\n",
    "client = MlflowClient(tracking_uri=\"file:logs/mlflow\")\n",
    "\n",
    "# Get the most recent backtest run\n",
    "exp = client.get_experiment_by_name(\"Backtests\")\n",
    "if not exp:\n",
    "    exp_id = client.create_experiment(\"Backtests\")\n",
    "else:\n",
    "    exp_id = exp.experiment_id\n",
    "runs = client.search_runs(\n",
    "    experiment_ids=[exp_id],\n",
    "    order_by=[\"start_time DESC\"],\n",
    "    max_results=1\n",
    ")\n",
    "backtest_run = runs[0]\n",
    "backtest_run_id = backtest_run.info.run_id\n",
    "\n",
    "print(f\"Loading backtest run: {backtest_run_id}\")"
   ]
  },
  {
   "cell_type": "code",
   "execution_count": null,
   "id": "6b6cbe80",
   "metadata": {},
   "outputs": [],
   "source": [
    "# Load account and positions data\n",
    "acc_path = client.download_artifacts(run_id=backtest_run_id, path=\"account_report.csv\")\n",
    "pos_path = client.download_artifacts(run_id=backtest_run_id, path=\"positions_report.csv\")\n",
    "\n",
    "account_df = pd.read_csv(acc_path, index_col=0, parse_dates=True)\n",
    "positions_df = pd.read_csv(pos_path, index_col=0, parse_dates=True)\n",
    "\n",
    "print(f\"Account snapshots: {len(account_df)}\")\n",
    "print(f\"Position records: {len(positions_df)}\")"
   ]
  },
  {
   "cell_type": "code",
   "execution_count": null,
   "id": "448314cd",
   "metadata": {},
   "outputs": [],
   "source": [
    "# Calculate returns\n",
    "freq = cfg['STRATEGY']['PARAMS']['freq']\n",
    "freq_params = get_frequency_params(freq)\n",
    "\n",
    "# Extract portfolio values\n",
    "currency_code = cfg['STRATEGY']['PARAMS']['currency'].code\n",
    "portfolio_values = account_df[account_df['currency'] == currency_code]['total']\n",
    "portfolio_values = portfolio_values.resample(freq_params['resample_freq']).last().ffill()\n",
    "strategy_ret = portfolio_values.pct_change().fillna(0)\n",
    "\n",
    "# Load benchmark and risk-free data\n",
    "data_dict = loader.get_ohlcv_data(frequency=freq)\n",
    "benchmark_ticker = cfg['STRATEGY']['PARAMS']['benchmark_ticker']\n",
    "risk_free_ticker = cfg['STRATEGY']['PARAMS']['risk_free_ticker']\n",
    "benchmark_ret = data_dict[benchmark_ticker]['close'].pct_change()\n",
    "rf_ret = data_dict[risk_free_ticker]['close'].pct_change()\n",
    "\n",
    "# Align series\n",
    "strategy_ret, benchmark_ret, rf_ret = align_series(\n",
    "    strategy_ret, benchmark_ret, rf_ret, freq_params['resample_freq']\n",
    ")\n",
    "\n",
    "print(f\"Returns calculated for {len(strategy_ret)} periods\")"
   ]
  },
  {
   "cell_type": "markdown",
   "id": "507d53b1",
   "metadata": {},
   "source": [
    "### 5.1: Balance Over Time"
   ]
  },
  {
   "cell_type": "code",
   "execution_count": null,
   "id": "4b7c822a",
   "metadata": {},
   "outputs": [],
   "source": [
    "fig = plot_balance_breakdown(\n",
    "    account_df=account_df,\n",
    "    resample_freq=freq_params['resample_freq']\n",
    ")"
   ]
  },
  {
   "cell_type": "markdown",
   "id": "4a7932ff",
   "metadata": {},
   "source": [
    "### 5.2: Cumulative Returns"
   ]
  },
  {
   "cell_type": "code",
   "execution_count": null,
   "id": "751366d4",
   "metadata": {},
   "outputs": [],
   "source": [
    "fig = plot_cumulative_returns(\n",
    "    strategy_ret=strategy_ret,\n",
    "    benchmark_ret=benchmark_ret\n",
    ")"
   ]
  },
  {
   "cell_type": "markdown",
   "id": "7949c63f",
   "metadata": {},
   "source": [
    "### 5.3: Rolling Sharpe Ratio"
   ]
  },
  {
   "cell_type": "code",
   "execution_count": null,
   "id": "3adb7e72",
   "metadata": {},
   "outputs": [],
   "source": [
    "window = max(10, int(freq_params['periods_per_year'] / 12))\n",
    "fig = plot_rolling_sharpe(\n",
    "    strategy_ret=strategy_ret,\n",
    "    benchmark_ret=benchmark_ret,\n",
    "    rf_ret=rf_ret,\n",
    "    window=window,\n",
    "    annualization_factor=freq_params['annualization_factor']\n",
    ")"
   ]
  },
  {
   "cell_type": "markdown",
   "id": "722fd1f8",
   "metadata": {},
   "source": [
    "### 5.4: Drawdown Analysis"
   ]
  },
  {
   "cell_type": "code",
   "execution_count": null,
   "id": "526edea6",
   "metadata": {},
   "outputs": [],
   "source": [
    "fig = plot_underwater(strategy_ret=strategy_ret)"
   ]
  },
  {
   "cell_type": "markdown",
   "id": "e32c1b31",
   "metadata": {},
   "source": [
    "### 5.5: Active Returns"
   ]
  },
  {
   "cell_type": "code",
   "execution_count": null,
   "id": "bba177e7",
   "metadata": {},
   "outputs": [],
   "source": [
    "fig = plot_active_returns(\n",
    "    strategy_ret=strategy_ret,\n",
    "    benchmark_ret=benchmark_ret,\n",
    "    freq=freq\n",
    ")"
   ]
  },
  {
   "cell_type": "markdown",
   "id": "74fda249",
   "metadata": {},
   "source": [
    "### 5.6: Portfolio Allocation"
   ]
  },
  {
   "cell_type": "code",
   "execution_count": null,
   "id": "57e71db7",
   "metadata": {},
   "outputs": [],
   "source": [
    "fig = plot_portfolio_allocation(\n",
    "    positions_df=positions_df,\n",
    "    resample_freq=freq_params['resample_freq']\n",
    ")"
   ]
  },
  {
   "cell_type": "markdown",
   "id": "6660082b",
   "metadata": {},
   "source": [
    "### 5.7: Summary Statistics"
   ]
  },
  {
   "cell_type": "code",
   "execution_count": null,
   "id": "240c0b48",
   "metadata": {},
   "outputs": [],
   "source": [
    "# Calculate summary statistics\n",
    "total_return = (1 + strategy_ret).prod() - 1\n",
    "annualized_return = (1 + total_return) ** (freq_params['periods_per_year'] / len(strategy_ret)) - 1\n",
    "annualized_vol = strategy_ret.std() * freq_params['annualization_factor']\n",
    "sharpe_ratio = (strategy_ret.mean() - rf_ret.mean()) / strategy_ret.std() * freq_params['annualization_factor']\n",
    "\n",
    "# Drawdown\n",
    "cumulative = (1 + strategy_ret).cumprod()\n",
    "running_max = cumulative.expanding().max()\n",
    "drawdown = (cumulative - running_max) / running_max\n",
    "max_drawdown = drawdown.min()\n",
    "\n",
    "# Win rate\n",
    "winning_periods = (strategy_ret > 0).sum()\n",
    "win_rate = winning_periods / len(strategy_ret)\n",
    "\n",
    "# Create summary DataFrame\n",
    "summary = pd.DataFrame({\n",
    "    'Metric': [\n",
    "        'Total Return (%)',\n",
    "        'Annualized Return (%)',\n",
    "        'Annualized Volatility (%)',\n",
    "        'Sharpe Ratio',\n",
    "        'Max Drawdown (%)',\n",
    "        'Win Rate (%)',\n",
    "        'Number of Periods'\n",
    "    ],\n",
    "    'Value': [\n",
    "        f\"{total_return * 100:.2f}\",\n",
    "        f\"{annualized_return * 100:.2f}\",\n",
    "        f\"{annualized_vol * 100:.2f}\",\n",
    "        f\"{sharpe_ratio:.2f}\",\n",
    "        f\"{max_drawdown * 100:.2f}\",\n",
    "        f\"{win_rate * 100:.2f}\",\n",
    "        len(strategy_ret)\n",
    "    ]\n",
    "})\n",
    "\n",
    "print(\"\\n\" + \"=\"*60)\n",
    "print(\"PERFORMANCE SUMMARY\")\n",
    "print(\"=\"*60)\n",
    "print(summary.to_string(index=False))"
   ]
  },
  {
   "cell_type": "markdown",
   "id": "a773ed98",
   "metadata": {},
   "source": [
    "---\n",
    "## Comparison Matrix: All Models × Strategies"
   ]
  },
  {
   "cell_type": "code",
   "execution_count": null,
   "id": "67fdccc2",
   "metadata": {},
   "outputs": [],
   "source": [
    "# Generate HPO results matrix\n",
    "hpo_matrix = tuner.get_strategy_hpo_matrix(metric=\"total_pnl_pct\")\n",
    "print(\"\\nStrategy HPO Results Matrix (total_pnl_pct):\")\n",
    "print(hpo_matrix)\n",
    "\n",
    "# Generate final backtest results matrix\n",
    "backtest_matrix = tuner.get_final_backtest_matrix(metric=\"sharpe_ratio\")\n",
    "print(\"\\nFinal Backtest Results Matrix (sharpe_ratio):\")\n",
    "print(backtest_matrix)"
   ]
  },
  {
   "cell_type": "markdown",
   "id": "1c1faa12",
   "metadata": {},
   "source": [
    "---\n",
    "## Pipeline Complete ✅\n",
    "\n",
    "**Next Steps:**\n",
    "- Review MLflow UI: `mlflow ui --backend-store-uri logs/mlflow`\n",
    "- Explore experiment tracking and compare runs\n",
    "- Adjust hyperparameters in `configs/config.yaml` and rerun\n",
    "- Export results for production deployment"
   ]
  }
 ],
 "metadata": {
  "kernelspec": {
   "display_name": ".venv",
   "language": "python",
   "name": "python3"
  },
  "language_info": {
   "codemirror_mode": {
    "name": "ipython",
    "version": 3
   },
   "file_extension": ".py",
   "mimetype": "text/x-python",
   "name": "python",
   "nbconvert_exporter": "python",
   "pygments_lexer": "ipython3",
   "version": "3.12.1"
  }
 },
 "nbformat": 4,
 "nbformat_minor": 5
}
