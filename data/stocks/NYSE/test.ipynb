{
 "cells": [
  {
   "cell_type": "code",
   "execution_count": 5,
   "id": "54a66973",
   "metadata": {},
   "outputs": [],
   "source": [
    "from os import read\n",
    "import talib\n",
    "from talib import stream\n",
    "import pandas as pd\n",
    "\n",
    "df = pd.read_csv('AAPL.csv')"
   ]
  },
  {
   "cell_type": "code",
   "execution_count": 3,
   "id": "d2805ab1",
   "metadata": {},
   "outputs": [],
   "source": [
    "df_i = stream.SMA(df['Close'])"
   ]
  },
  {
   "cell_type": "code",
   "execution_count": 4,
   "id": "d09fee4a",
   "metadata": {},
   "outputs": [
    {
     "data": {
      "text/plain": [
       "202.44100138346354"
      ]
     },
     "execution_count": 4,
     "metadata": {},
     "output_type": "execute_result"
    }
   ],
   "source": [
    "df_i"
   ]
  },
  {
   "cell_type": "code",
   "execution_count": 6,
   "id": "805d4a40",
   "metadata": {},
   "outputs": [],
   "source": [
    "dfa = talib.SMA(df['Close'])"
   ]
  },
  {
   "cell_type": "code",
   "execution_count": 7,
   "id": "bd92239d",
   "metadata": {},
   "outputs": [
    {
     "data": {
      "text/plain": [
       "0               NaN\n",
       "1               NaN\n",
       "2               NaN\n",
       "3               NaN\n",
       "4               NaN\n",
       "            ...    \n",
       "11188    205.743668\n",
       "11189    205.003001\n",
       "11190    204.086335\n",
       "11191    203.285002\n",
       "11192    202.441001\n",
       "Length: 11193, dtype: float64"
      ]
     },
     "execution_count": 7,
     "metadata": {},
     "output_type": "execute_result"
    }
   ],
   "source": [
    "dfa"
   ]
  }
 ],
 "metadata": {
  "kernelspec": {
   "display_name": ".venv",
   "language": "python",
   "name": "python3"
  },
  "language_info": {
   "codemirror_mode": {
    "name": "ipython",
    "version": 3
   },
   "file_extension": ".py",
   "mimetype": "text/x-python",
   "name": "python",
   "nbconvert_exporter": "python",
   "pygments_lexer": "ipython3",
   "version": "3.12.10"
  }
 },
 "nbformat": 4,
 "nbformat_minor": 5
}
